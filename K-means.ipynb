{
 "cells": [
  {
   "cell_type": "code",
   "execution_count": 1,
   "metadata": {},
   "outputs": [],
   "source": [
    "import pandas as pd\n",
    "import numpy as np"
   ]
  },
  {
   "cell_type": "code",
   "execution_count": 2,
   "metadata": {},
   "outputs": [],
   "source": [
    "sample_df = pd.read_csv('data.csv').set_index('id').head(30)"
   ]
  },
  {
   "cell_type": "code",
   "execution_count": 47,
   "metadata": {},
   "outputs": [],
   "source": [
    "class data_cleaner:\n",
    "    def __init__(self, force_fummies = True):\n",
    "        self.dtype_dict = None\n",
    "        self.data_transform_dict = None\n",
    "        self.force_dummies = force_fummies\n",
    "    \n",
    "    def check_data_type(self, X):\n",
    "        dtype_dict={}\n",
    "        n_unique_thres = 4\n",
    "        for col in X.columns:\n",
    "            if X[col].dtype in ['int','int64','float','float64']:\n",
    "                if len(X[col].unique()) <= n_unique_thres:\n",
    "                    dtype_dict[col] = 'categorical'\n",
    "                else:\n",
    "                    dtype_dict[col] = 'numerical'\n",
    "            else:\n",
    "                dtype_dict[col] = 'categorical'\n",
    "        self.dtype_dict = dtype_dict\n",
    "        \n",
    "    def fit(self, df):\n",
    "        self.check_data_type(df)\n",
    "        data_transform_dict = {}\n",
    "        for col in df.columns:\n",
    "            if self.dtype_dict[col] == 'categorical':\n",
    "                mapping_dict = dict(zip(df[col].unique(),range(len(df[col].unique()))))\n",
    "                data_transform_dict[col] = ('categorical', mapping_dict)\n",
    "            else:\n",
    "                data_transform_dict[col] = ('numerical', None)\n",
    "        self.data_transform_dict = data_transform_dict\n",
    "\n",
    "    def transform(self, df):\n",
    "        new_df = pd.DataFrame(index = df.index)\n",
    "        for col, v in self.data_transform_dict.items():\n",
    "            col_dtype, mapping_dict = v\n",
    "            if col_dtype == 'categorical':\n",
    "                if self.force_dummies:\n",
    "                    for k, v in mapping_dict.items():\n",
    "                        new_df[col + '_' + str(v)] = (df[col] == k).astype(int)\n",
    "                else:\n",
    "                    new_df[col] = df[col].apply(lambda x: mapping_dict[x])\n",
    "            else:\n",
    "                new_df[col] = df[col]\n",
    "        return new_df\n",
    "\n",
    "    def fit_transform(self, df):\n",
    "        self.fit(df)\n",
    "        return self.transform(df)\n",
    "d = data_cleaner()\n",
    "df = d.fit_transform(sample_df)"
   ]
  },
  {
   "cell_type": "code",
   "execution_count": 93,
   "metadata": {},
   "outputs": [],
   "source": [
    "class kmeans_model:\n",
    "    def __init__(self, k = 5, d_metric_p = 2):\n",
    "        self.k = k\n",
    "        self.fitted = False\n",
    "        self.init = 1\n",
    "        self.d_metric_p = d_metric_p\n",
    "        self.centers = None\n",
    "    def distance(self, arr1, arr2):\n",
    "        if self.d_metric_p == 1:\n",
    "            return np.sum(np.abs(arr1 - arr2))\n",
    "        elif self.d_metric_p == 2:\n",
    "            return np.sqrt(np.sum(np.square(arr1 - arr2)))\n",
    "        elif self.d_metric_p == np.inf:\n",
    "            return np.max(np.abs(arr1 - arr2))\n",
    "    \n",
    "    def find_cluster(self, data_row):\n",
    "        return self.centers.apply(lambda center_row: self.distance(center_row, data_row),axis = 1).argmin()\n",
    "\n",
    "\n",
    "    def random_init_centers(self, df):\n",
    "        self.centers = df.iloc[np.random.choice(df.shape[0], self.k, replace = True),:].reindex() # centers as a numpy array\n",
    "        \n",
    "    def fit(self, df, max_iter = 10, init_centers = None):\n",
    "        if init_centers is None:\n",
    "            self.random_init_centers(df)\n",
    "        t = 0\n",
    "        # df = self.clean(df) funtion to clean dataset, e.g make dummies, check \n",
    "        while t < max_iter:\n",
    "            old_centers = self.centers.copy(deep = True)\n",
    "            clusters = self.predict(df)\n",
    "            self.centers = df.groupby(clusters).agg('mean').reindex()\n",
    "            t += 1\n",
    "\n",
    "            try:\n",
    "                if (old_centers.values == self.centers.values ).all():\n",
    "                    print('fitting converged at iteration', t)\n",
    "                    break\n",
    "            except:\n",
    "                print(old_centers)\n",
    "                print(self.centers)\n",
    "        print('fitting stopped')\n",
    "        self.fitted = True\n",
    "        print(self.centers)\n",
    "    \n",
    "    def predict(self, df):\n",
    "        return df.apply(lambda row: self.find_cluster(row),axis = 1)"
   ]
  },
  {
   "cell_type": "code",
   "execution_count": 94,
   "metadata": {
    "collapsed": true
   },
   "outputs": [
    {
     "name": "stdout",
     "output_type": "stream",
     "text": [
      "fitting converged at iteration 6\n",
      "fitting stopped\n",
      "   gender_0  gender_1        age  hypertension_0  hypertension_1  \\\n",
      "0  0.500000  0.500000  65.125000        0.750000        0.250000   \n",
      "1  0.000000  1.000000  66.666667        0.666667        0.333333   \n",
      "2  0.428571  0.571429  68.571429        1.000000        0.000000   \n",
      "3  0.500000  0.500000  76.000000        0.500000        0.500000   \n",
      "4  0.600000  0.400000  68.900000        0.800000        0.200000   \n",
      "\n",
      "   heart_disease_0  heart_disease_1  ever_married_0  ever_married_1  \\\n",
      "0         0.250000         0.750000        1.000000        0.000000   \n",
      "1         0.000000         1.000000        0.666667        0.333333   \n",
      "2         0.285714         0.714286        0.857143        0.142857   \n",
      "3         0.500000         0.500000        1.000000        0.000000   \n",
      "4         0.500000         0.500000        0.900000        0.100000   \n",
      "\n",
      "   work_type_0  ...  work_type_2  Residence_type_0  Residence_type_1  \\\n",
      "0     0.500000  ...     0.125000          0.500000          0.500000   \n",
      "1     1.000000  ...     0.000000          0.333333          0.666667   \n",
      "2     0.714286  ...     0.142857          0.428571          0.571429   \n",
      "3     1.000000  ...     0.000000          0.500000          0.500000   \n",
      "4     0.600000  ...     0.100000          0.700000          0.300000   \n",
      "\n",
      "   avg_glucose_level        bmi  smoking_status_0  smoking_status_1  \\\n",
      "0         183.698750  29.500000          0.125000          0.250000   \n",
      "1          81.933333  33.750000          0.000000          0.666667   \n",
      "2         104.750000  28.328571          0.285714          0.428571   \n",
      "3          64.330000  25.800000          0.000000          0.500000   \n",
      "4         218.527000  33.100000          0.200000          0.400000   \n",
      "\n",
      "   smoking_status_2  smoking_status_3  stroke_0  \n",
      "0          0.500000          0.125000       1.0  \n",
      "1          0.000000          0.333333       1.0  \n",
      "2          0.285714          0.000000       1.0  \n",
      "3          0.000000          0.500000       1.0  \n",
      "4          0.100000          0.300000       1.0  \n",
      "\n",
      "[5 rows x 21 columns]\n"
     ]
    }
   ],
   "source": [
    "km = kmeans_model()\n",
    "km.fit(df)"
   ]
  },
  {
   "cell_type": "code",
   "execution_count": null,
   "metadata": {},
   "outputs": [],
   "source": []
  }
 ],
 "metadata": {
  "kernelspec": {
   "display_name": "Python 3",
   "language": "python",
   "name": "python3"
  },
  "language_info": {
   "codemirror_mode": {
    "name": "ipython",
    "version": 3
   },
   "file_extension": ".py",
   "mimetype": "text/x-python",
   "name": "python",
   "nbconvert_exporter": "python",
   "pygments_lexer": "ipython3",
   "version": "3.8.5"
  }
 },
 "nbformat": 4,
 "nbformat_minor": 4
}
